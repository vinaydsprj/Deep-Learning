{
  "nbformat": 4,
  "nbformat_minor": 0,
  "metadata": {
    "colab": {
      "name": "Untitled6.ipynb",
      "provenance": [],
      "collapsed_sections": [],
      "authorship_tag": "ABX9TyOhGiod3yupoMh+BaWzL65P"
    },
    "kernelspec": {
      "name": "python3",
      "display_name": "Python 3"
    },
    "language_info": {
      "name": "python"
    }
  },
  "cells": [
    {
      "cell_type": "code",
      "execution_count": null,
      "metadata": {
        "id": "tI15CfDX0RR_"
      },
      "outputs": [],
      "source": [
        "import pandas as pd\n",
        "import numpy as np\n",
        "\n",
        "dataset = pd.read_csv('Churn_Modelling.csv',index_col= 'RowNumber')\n",
        "# print(dataset)\n",
        "X = dataset.iloc[:, 2:-1].values\n",
        "y = dataset.iloc[:, -1].values"
      ]
    },
    {
      "cell_type": "code",
      "source": [
        "X"
      ],
      "metadata": {
        "colab": {
          "base_uri": "https://localhost:8080/"
        },
        "id": "VyTvf-a4Ddxj",
        "outputId": "5727205e-43f6-45a5-9f58-e31361b30014"
      },
      "execution_count": null,
      "outputs": [
        {
          "output_type": "execute_result",
          "data": {
            "text/plain": [
              "array([[619, 'France', 'Female', ..., 1, 1, 101348.88],\n",
              "       [608, 'Spain', 'Female', ..., 0, 1, 112542.58],\n",
              "       [502, 'France', 'Female', ..., 1, 0, 113931.57],\n",
              "       ...,\n",
              "       [709, 'France', 'Female', ..., 0, 1, 42085.58],\n",
              "       [772, 'Germany', 'Male', ..., 1, 0, 92888.52],\n",
              "       [792, 'France', 'Female', ..., 1, 0, 38190.78]], dtype=object)"
            ]
          },
          "metadata": {},
          "execution_count": 2
        }
      ]
    },
    {
      "cell_type": "code",
      "source": [
        "from sklearn.preprocessing import LabelEncoder\n",
        "le = LabelEncoder()\n",
        "X[:, 1] = le.fit_transform(X[:, 1])\n",
        "X\n"
      ],
      "metadata": {
        "colab": {
          "base_uri": "https://localhost:8080/"
        },
        "id": "0AlpQXklDeCB",
        "outputId": "4f8359c4-2215-4342-f5c7-575a24e63ea2"
      },
      "execution_count": null,
      "outputs": [
        {
          "output_type": "execute_result",
          "data": {
            "text/plain": [
              "array([[619, 0, 'Female', ..., 1, 1, 101348.88],\n",
              "       [608, 2, 'Female', ..., 0, 1, 112542.58],\n",
              "       [502, 0, 'Female', ..., 1, 0, 113931.57],\n",
              "       ...,\n",
              "       [709, 0, 'Female', ..., 0, 1, 42085.58],\n",
              "       [772, 1, 'Male', ..., 1, 0, 92888.52],\n",
              "       [792, 0, 'Female', ..., 1, 0, 38190.78]], dtype=object)"
            ]
          },
          "metadata": {},
          "execution_count": 3
        }
      ]
    },
    {
      "cell_type": "code",
      "source": [
        "from sklearn.compose import ColumnTransformer\n",
        "from sklearn.preprocessing import OneHotEncoder\n",
        "ct = ColumnTransformer(transformers=[('encoder', OneHotEncoder(), [1])], remainder='passthrough')\n",
        "X = np.array(ct.fit_transform(X))\n",
        "print(X)"
      ],
      "metadata": {
        "colab": {
          "base_uri": "https://localhost:8080/"
        },
        "id": "JkeDcILMBI3n",
        "outputId": "42500c1f-10a8-4c1f-df18-0d25f764bc9f"
      },
      "execution_count": null,
      "outputs": [
        {
          "output_type": "stream",
          "name": "stdout",
          "text": [
            "[[1.0 0.0 0.0 ... 1 1 101348.88]\n",
            " [0.0 0.0 1.0 ... 0 1 112542.58]\n",
            " [1.0 0.0 0.0 ... 1 0 113931.57]\n",
            " ...\n",
            " [1.0 0.0 0.0 ... 0 1 42085.58]\n",
            " [0.0 1.0 0.0 ... 1 0 92888.52]\n",
            " [1.0 0.0 0.0 ... 1 0 38190.78]]\n"
          ]
        }
      ]
    },
    {
      "cell_type": "code",
      "source": [
        "X[0]"
      ],
      "metadata": {
        "colab": {
          "base_uri": "https://localhost:8080/"
        },
        "id": "7nNCqBIrBPUo",
        "outputId": "93cb5d2d-c0e0-4f05-b2ae-9950185b737c"
      },
      "execution_count": null,
      "outputs": [
        {
          "output_type": "execute_result",
          "data": {
            "text/plain": [
              "array([1.0, 0.0, 0.0, 619, 'Female', 42, 2, 0.0, 1, 1, 1, 101348.88],\n",
              "      dtype=object)"
            ]
          },
          "metadata": {},
          "execution_count": 5
        }
      ]
    },
    {
      "cell_type": "code",
      "source": [
        "le_1 = LabelEncoder()\n",
        "X[:, 4] = le_1.fit_transform(X[:, 4])\n",
        "X[0]"
      ],
      "metadata": {
        "colab": {
          "base_uri": "https://localhost:8080/"
        },
        "id": "x2V_sutpFU3M",
        "outputId": "7f866f2f-8004-41f4-d71a-f41c59871c9f"
      },
      "execution_count": null,
      "outputs": [
        {
          "output_type": "execute_result",
          "data": {
            "text/plain": [
              "array([1.0, 0.0, 0.0, 619, 0, 42, 2, 0.0, 1, 1, 1, 101348.88],\n",
              "      dtype=object)"
            ]
          },
          "metadata": {},
          "execution_count": 6
        }
      ]
    },
    {
      "cell_type": "code",
      "source": [
        "from sklearn.model_selection import train_test_split\n",
        "X_train , X_test , y_train , y_test = train_test_split(X, y, train_size = 0.2, random_state = 0)"
      ],
      "metadata": {
        "id": "GeuoYfdDFdWg"
      },
      "execution_count": null,
      "outputs": []
    },
    {
      "cell_type": "code",
      "source": [
        "from sklearn.preprocessing import StandardScaler\n",
        "sc = StandardScaler()\n",
        "X_train = sc.fit_transform(X_train)\n",
        "X_test = sc.fit_transform(X_test)"
      ],
      "metadata": {
        "id": "T_oHq9tDGJsT"
      },
      "execution_count": null,
      "outputs": []
    },
    {
      "cell_type": "code",
      "source": [
        "import tensorflow as tf\n",
        "\n",
        "\n",
        "ann = tf.keras.models.Sequential()\n",
        "\n",
        "ann.add(tf.keras.layers.Dense(units=12, activation='relu'))\n",
        "\n",
        "ann.add(tf.keras.layers.Dense(units=6, activation='relu'))\n",
        "\n",
        "ann.add(tf.keras.layers.Dense(units=1, activation='sigmoid'))"
      ],
      "metadata": {
        "id": "us1c19lOGoqe"
      },
      "execution_count": null,
      "outputs": []
    },
    {
      "cell_type": "code",
      "source": [
        "ann.compile(optimizer = 'adam', loss = 'binary_crossentropy', metrics = ['accuracy'])\n",
        "\n",
        "# ann.compile(optimizer='sgd', loss=tf.keras.losses.SquaredHinge(), metrics = ['accuracy'])\n",
        "ann.fit(X_train, y_train, batch_size = 100, epochs = 50)"
      ],
      "metadata": {
        "colab": {
          "base_uri": "https://localhost:8080/"
        },
        "id": "BoNnl8V_JdLE",
        "outputId": "51afdb27-f02f-454e-ee0f-7f694b098abd"
      },
      "execution_count": null,
      "outputs": [
        {
          "output_type": "stream",
          "name": "stdout",
          "text": [
            "Epoch 1/50\n",
            "20/20 [==============================] - 1s 4ms/step - loss: 0.6291 - accuracy: 0.6555\n",
            "Epoch 2/50\n",
            "20/20 [==============================] - 0s 4ms/step - loss: 0.5963 - accuracy: 0.7255\n",
            "Epoch 3/50\n",
            "20/20 [==============================] - 0s 5ms/step - loss: 0.5688 - accuracy: 0.7730\n",
            "Epoch 4/50\n",
            "20/20 [==============================] - 0s 6ms/step - loss: 0.5468 - accuracy: 0.7925\n",
            "Epoch 5/50\n",
            "20/20 [==============================] - 0s 5ms/step - loss: 0.5283 - accuracy: 0.7990\n",
            "Epoch 6/50\n",
            "20/20 [==============================] - 0s 4ms/step - loss: 0.5129 - accuracy: 0.7985\n",
            "Epoch 7/50\n",
            "20/20 [==============================] - 0s 3ms/step - loss: 0.5004 - accuracy: 0.7990\n",
            "Epoch 8/50\n",
            "20/20 [==============================] - 0s 4ms/step - loss: 0.4901 - accuracy: 0.8005\n",
            "Epoch 9/50\n",
            "20/20 [==============================] - 0s 4ms/step - loss: 0.4810 - accuracy: 0.8015\n",
            "Epoch 10/50\n",
            "20/20 [==============================] - 0s 6ms/step - loss: 0.4732 - accuracy: 0.8010\n",
            "Epoch 11/50\n",
            "20/20 [==============================] - 0s 4ms/step - loss: 0.4660 - accuracy: 0.8005\n",
            "Epoch 12/50\n",
            "20/20 [==============================] - 0s 3ms/step - loss: 0.4598 - accuracy: 0.8000\n",
            "Epoch 13/50\n",
            "20/20 [==============================] - 0s 5ms/step - loss: 0.4538 - accuracy: 0.8015\n",
            "Epoch 14/50\n",
            "20/20 [==============================] - 0s 4ms/step - loss: 0.4485 - accuracy: 0.8035\n",
            "Epoch 15/50\n",
            "20/20 [==============================] - 0s 4ms/step - loss: 0.4434 - accuracy: 0.8035\n",
            "Epoch 16/50\n",
            "20/20 [==============================] - 0s 4ms/step - loss: 0.4386 - accuracy: 0.8045\n",
            "Epoch 17/50\n",
            "20/20 [==============================] - 0s 5ms/step - loss: 0.4343 - accuracy: 0.8045\n",
            "Epoch 18/50\n",
            "20/20 [==============================] - 0s 7ms/step - loss: 0.4303 - accuracy: 0.8070\n",
            "Epoch 19/50\n",
            "20/20 [==============================] - 0s 4ms/step - loss: 0.4262 - accuracy: 0.8075\n",
            "Epoch 20/50\n",
            "20/20 [==============================] - 0s 6ms/step - loss: 0.4223 - accuracy: 0.8090\n",
            "Epoch 21/50\n",
            "20/20 [==============================] - 0s 5ms/step - loss: 0.4183 - accuracy: 0.8110\n",
            "Epoch 22/50\n",
            "20/20 [==============================] - 0s 5ms/step - loss: 0.4146 - accuracy: 0.8120\n",
            "Epoch 23/50\n",
            "20/20 [==============================] - 0s 3ms/step - loss: 0.4109 - accuracy: 0.8130\n",
            "Epoch 24/50\n",
            "20/20 [==============================] - 0s 3ms/step - loss: 0.4077 - accuracy: 0.8155\n",
            "Epoch 25/50\n",
            "20/20 [==============================] - 0s 4ms/step - loss: 0.4042 - accuracy: 0.8155\n",
            "Epoch 26/50\n",
            "20/20 [==============================] - 0s 5ms/step - loss: 0.4012 - accuracy: 0.8165\n",
            "Epoch 27/50\n",
            "20/20 [==============================] - 0s 8ms/step - loss: 0.3983 - accuracy: 0.8190\n",
            "Epoch 28/50\n",
            "20/20 [==============================] - 0s 8ms/step - loss: 0.3955 - accuracy: 0.8190\n",
            "Epoch 29/50\n",
            "20/20 [==============================] - 0s 2ms/step - loss: 0.3928 - accuracy: 0.8185\n",
            "Epoch 30/50\n",
            "20/20 [==============================] - 0s 6ms/step - loss: 0.3902 - accuracy: 0.8200\n",
            "Epoch 31/50\n",
            "20/20 [==============================] - 0s 4ms/step - loss: 0.3878 - accuracy: 0.8190\n",
            "Epoch 32/50\n",
            "20/20 [==============================] - 0s 5ms/step - loss: 0.3856 - accuracy: 0.8210\n",
            "Epoch 33/50\n",
            "20/20 [==============================] - 0s 4ms/step - loss: 0.3833 - accuracy: 0.8230\n",
            "Epoch 34/50\n",
            "20/20 [==============================] - 0s 3ms/step - loss: 0.3814 - accuracy: 0.8240\n",
            "Epoch 35/50\n",
            "20/20 [==============================] - 0s 4ms/step - loss: 0.3793 - accuracy: 0.8290\n",
            "Epoch 36/50\n",
            "20/20 [==============================] - 0s 4ms/step - loss: 0.3773 - accuracy: 0.8335\n",
            "Epoch 37/50\n",
            "20/20 [==============================] - 0s 3ms/step - loss: 0.3758 - accuracy: 0.8330\n",
            "Epoch 38/50\n",
            "20/20 [==============================] - 0s 3ms/step - loss: 0.3739 - accuracy: 0.8355\n",
            "Epoch 39/50\n",
            "20/20 [==============================] - 0s 6ms/step - loss: 0.3724 - accuracy: 0.8390\n",
            "Epoch 40/50\n",
            "20/20 [==============================] - 0s 5ms/step - loss: 0.3711 - accuracy: 0.8375\n",
            "Epoch 41/50\n",
            "20/20 [==============================] - 0s 3ms/step - loss: 0.3693 - accuracy: 0.8405\n",
            "Epoch 42/50\n",
            "20/20 [==============================] - 0s 4ms/step - loss: 0.3676 - accuracy: 0.8465\n",
            "Epoch 43/50\n",
            "20/20 [==============================] - 0s 4ms/step - loss: 0.3662 - accuracy: 0.8465\n",
            "Epoch 44/50\n",
            "20/20 [==============================] - 0s 4ms/step - loss: 0.3652 - accuracy: 0.8455\n",
            "Epoch 45/50\n",
            "20/20 [==============================] - 0s 4ms/step - loss: 0.3639 - accuracy: 0.8480\n",
            "Epoch 46/50\n",
            "20/20 [==============================] - 0s 5ms/step - loss: 0.3627 - accuracy: 0.8500\n",
            "Epoch 47/50\n",
            "20/20 [==============================] - 0s 6ms/step - loss: 0.3614 - accuracy: 0.8500\n",
            "Epoch 48/50\n",
            "20/20 [==============================] - 0s 4ms/step - loss: 0.3601 - accuracy: 0.8500\n",
            "Epoch 49/50\n",
            "20/20 [==============================] - 0s 6ms/step - loss: 0.3590 - accuracy: 0.8500\n",
            "Epoch 50/50\n",
            "20/20 [==============================] - 0s 3ms/step - loss: 0.3579 - accuracy: 0.8525\n"
          ]
        },
        {
          "output_type": "execute_result",
          "data": {
            "text/plain": [
              "<keras.callbacks.History at 0x7f61771817d0>"
            ]
          },
          "metadata": {},
          "execution_count": 10
        }
      ]
    },
    {
      "cell_type": "code",
      "source": [
        "y_pred = ann.predict(X_test)\n",
        "y_pred = (y_pred > 0.5)\n",
        "print(np.concatenate((y_pred.reshape(len(y_pred),1), y_test.reshape(len(y_test),1)),1))"
      ],
      "metadata": {
        "colab": {
          "base_uri": "https://localhost:8080/"
        },
        "id": "X9XQn3Y8KYNd",
        "outputId": "b3bf5106-c113-44fc-fb74-dc625fb9a0ef"
      },
      "execution_count": null,
      "outputs": [
        {
          "output_type": "stream",
          "name": "stdout",
          "text": [
            "[[0 0]\n",
            " [0 1]\n",
            " [0 0]\n",
            " ...\n",
            " [0 0]\n",
            " [0 0]\n",
            " [0 0]]\n"
          ]
        }
      ]
    },
    {
      "cell_type": "code",
      "source": [
        "# Making the Confusion Matrix\n",
        "from sklearn.metrics import confusion_matrix, accuracy_score\n",
        "cm = confusion_matrix(y_test, y_pred)\n",
        "print(cm)\n",
        "accuracy_score(y_test, y_pred)"
      ],
      "metadata": {
        "colab": {
          "base_uri": "https://localhost:8080/"
        },
        "id": "57dvzUf1KpLX",
        "outputId": "23b98806-ac5f-4a89-f22f-cc47de505e16"
      },
      "execution_count": null,
      "outputs": [
        {
          "output_type": "stream",
          "name": "stdout",
          "text": [
            "[[6046  318]\n",
            " [ 933  703]]\n"
          ]
        },
        {
          "output_type": "execute_result",
          "data": {
            "text/plain": [
              "0.843625"
            ]
          },
          "metadata": {},
          "execution_count": 12
        }
      ]
    }
  ]
}